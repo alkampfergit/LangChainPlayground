{
 "cells": [
  {
   "cell_type": "code",
   "execution_count": 1,
   "metadata": {},
   "outputs": [],
   "source": [
    "import os\n",
    "# I need to visualize all the environment varibale defined\n",
    "# in the notebook. I need to know the order of the cells\n",
    "# and the order of the variables defined in each cell.\n",
    "\n",
    "os.environ.pop(\"OPENAI_API_BASE\", None)\n"
   ]
  },
  {
   "cell_type": "code",
   "execution_count": 2,
   "metadata": {},
   "outputs": [
    {
     "name": "stdout",
     "output_type": "stream",
     "text": [
      "https://alkopenai2.openai.azure.com/\n",
      "None\n"
     ]
    }
   ],
   "source": [
    "# Import some libraries and especially load environment variables\n",
    "from langchain.llms import AzureOpenAI\n",
    "from langchain.chat_models import AzureChatOpenAI\n",
    "import os\n",
    "from dotenv import load_dotenv, find_dotenv\n",
    "_ = load_dotenv(find_dotenv()) # read local .env file\n",
    "# set an environment varibale\n",
    "os.environ[\"LANGCHAIN_PROJECT\"] = \"01_basic\"\n",
    "\n",
    "print(os.getenv(\"AZURE_ENDPOINT\"))\n",
    "print(os.getenv(\"OPENAI_API_BASE\"))"
   ]
  },
  {
   "cell_type": "code",
   "execution_count": 3,
   "metadata": {},
   "outputs": [],
   "source": [
    "# Create an LLM based on GPT4 deployed on Azure\n",
    "llm = AzureChatOpenAI(\n",
    "    openai_api_version=\"2023-03-15-preview\",\n",
    "    deployment_name=\"Gpt35_2\", \n",
    "    azure_endpoint=os.getenv(\"AZURE_ENDPOINT\"),\n",
    "    model_name=\"gpt-35-turbo\"\n",
    ")"
   ]
  },
  {
   "cell_type": "code",
   "execution_count": 4,
   "metadata": {},
   "outputs": [
    {
     "name": "stdout",
     "output_type": "stream",
     "text": [
      "Changing title of task Task_1 to new title\n",
      "New version of the task: 7\n"
     ]
    }
   ],
   "source": [
    "# I the import my custom function to work with audio and videp\n",
    "from plugins.CallJarvis import Tasks\n",
    "\n",
    "tasks = Tasks()\n",
    "\n",
    "# you can test the function\n",
    "result = tasks.change_task_title(\"Task_1\", \"new title\")\n",
    "print(f\"New version of the task: {result}\")"
   ]
  },
  {
   "cell_type": "code",
   "execution_count": 6,
   "metadata": {},
   "outputs": [],
   "source": [
    "# Then create tools list\n",
    "from langchain.tools import  StructuredTool, Tool\n",
    "\n",
    "tools = [\n",
    "    StructuredTool.from_function(\n",
    "        func=tasks.change_task_title,\n",
    "        name=\"ChangeTaskTitle\",\n",
    "        description=\"Change the title of a task.\",\n",
    "    ),\n",
    "    StructuredTool.from_function(\n",
    "        func=tasks.search_task,\n",
    "        name=\"SearchTask\",\n",
    "        description=\"Can search task with a full Text string.\",\n",
    "    ),\n",
    "    StructuredTool.from_function(\n",
    "        func=tasks.load_task,\n",
    "        name=\"LoadTask\",\n",
    "        description=\"Given a task_id can load task detail in json format.\",\n",
    "    )\n",
    "]"
   ]
  },
  {
   "cell_type": "code",
   "execution_count": 8,
   "metadata": {},
   "outputs": [],
   "source": [
    "# Finally you can create the agent\n",
    "from langchain.agents import AgentType, initialize_agent\n",
    "agent = initialize_agent(\n",
    "    tools, \n",
    "    llm, \n",
    "    agent=AgentType.STRUCTURED_CHAT_ZERO_SHOT_REACT_DESCRIPTION, \n",
    "    verbose=True\n",
    ")"
   ]
  },
  {
   "cell_type": "code",
   "execution_count": 9,
   "metadata": {},
   "outputs": [
    {
     "name": "stdout",
     "output_type": "stream",
     "text": [
      "\n",
      "\n",
      "\u001b[1m> Entering new AgentExecutor chain...\u001b[0m\n",
      "\u001b[32;1m\u001b[1;3mAction:\n",
      "```\n",
      "{\n",
      "  \"action\": \"SearchTask\",\n",
      "  \"action_input\": {\n",
      "    \"search_string\": \"verdolazzy\"\n",
      "  }\n",
      "}\n",
      "```\u001b[0mSearching for task verdolazzy\n",
      "\n",
      "Observation: \u001b[33;1m\u001b[1;3m['Task_3', 'Task_4', 'Task_6']\u001b[0m\n",
      "Thought:\u001b[32;1m\u001b[1;3mThe previous search for tasks containing \"verdolazzy\" returned the following task IDs: Task_3, Task_4, Task_6. Now, the user wants to change the title of these tasks to \"hey this is a new title\". To do this, I will use the ChangeTaskTitle tool.\n",
      "Action:\n",
      "```\n",
      "{\n",
      "  \"action\": \"ChangeTaskTitle\",\n",
      "  \"action_input\": {\n",
      "    \"task_id\": \"Task_3\",\n",
      "    \"new_title\": \"hey this is a new title\"\n",
      "  }\n",
      "}\n",
      "```\n",
      "\u001b[0mChanging title of task Task_3 to hey this is a new title\n",
      "\n",
      "Observation: \u001b[36;1m\u001b[1;3m7\u001b[0m\n",
      "Thought:\u001b[32;1m\u001b[1;3mThe title of Task_3 has been successfully changed to \"hey this is a new title\". Now I need to change the titles of Task_4 and Task_6 as well.\n",
      "Action:\n",
      "```\n",
      "{\n",
      "  \"action\": \"ChangeTaskTitle\",\n",
      "  \"action_input\": {\n",
      "    \"task_id\": \"Task_4\",\n",
      "    \"new_title\": \"hey this is a new title\"\n",
      "  }\n",
      "}\n",
      "```\n",
      "\u001b[0mChanging title of task Task_4 to hey this is a new title\n",
      "\n",
      "Observation: \u001b[36;1m\u001b[1;3m7\u001b[0m\n",
      "Thought:\u001b[32;1m\u001b[1;3mThe title of Task_4 has also been successfully changed to \"hey this is a new title\". Now I need to change the title of Task_6.\n",
      "Action:\n",
      "```\n",
      "{\n",
      "  \"action\": \"ChangeTaskTitle\",\n",
      "  \"action_input\": {\n",
      "    \"task_id\": \"Task_6\",\n",
      "    \"new_title\": \"hey this is a new title\"\n",
      "  }\n",
      "}\n",
      "```\n",
      "\u001b[0mChanging title of task Task_6 to hey this is a new title\n",
      "\n",
      "Observation: \u001b[36;1m\u001b[1;3m7\u001b[0m\n",
      "Thought:\u001b[32;1m\u001b[1;3mThe title of Task_6 has also been successfully changed to \"hey this is a new title\". All three tasks containing \"verdolazzy\" have been updated with the new title.\u001b[0m\n",
      "\n",
      "\u001b[1m> Finished chain.\u001b[0m\n",
      "The title of Task_6 has also been successfully changed to \"hey this is a new title\". All three tasks containing \"verdolazzy\" have been updated with the new title.\n"
     ]
    }
   ],
   "source": [
    "# Everthing is ready to start the conversation\n",
    "result = agent.run(\"\"\"\n",
    "Search all task containing \"verdolazzy\" and then change title in \"hey this is a new title\"\n",
    "\"\"\")\n",
    "\n",
    "print(result)"
   ]
  }
 ],
 "metadata": {
  "kernelspec": {
   "display_name": "lchain",
   "language": "python",
   "name": "python3"
  },
  "language_info": {
   "codemirror_mode": {
    "name": "ipython",
    "version": 3
   },
   "file_extension": ".py",
   "mimetype": "text/x-python",
   "name": "python",
   "nbconvert_exporter": "python",
   "pygments_lexer": "ipython3",
   "version": "3.11.6"
  }
 },
 "nbformat": 4,
 "nbformat_minor": 2
}
