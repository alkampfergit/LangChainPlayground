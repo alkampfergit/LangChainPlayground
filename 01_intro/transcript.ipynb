{
 "cells": [
  {
   "cell_type": "code",
   "execution_count": 17,
   "metadata": {},
   "outputs": [],
   "source": [
    "import os\n",
    "# I need to visualize all the environment varibale defined\n",
    "# in the notebook. I need to know the order of the cells\n",
    "# and the order of the variables defined in each cell.\n",
    "\n",
    "os.environ.pop(\"OPENAI_API_BASE\", None)\n"
   ]
  },
  {
   "cell_type": "code",
   "execution_count": 18,
   "metadata": {},
   "outputs": [
    {
     "name": "stdout",
     "output_type": "stream",
     "text": [
      "https://alkopenai2.openai.azure.com/\n",
      "None\n"
     ]
    }
   ],
   "source": [
    "# Import some libraries and especially load environment variables\n",
    "from langchain.llms import AzureOpenAI\n",
    "from langchain.chat_models import AzureChatOpenAI\n",
    "import os\n",
    "from dotenv import load_dotenv, find_dotenv\n",
    "_ = load_dotenv(find_dotenv()) # read local .env file\n",
    "\n",
    "print(os.getenv(\"AZURE_ENDPOINT\"))\n",
    "print(os.getenv(\"OPENAI_API_BASE\"))"
   ]
  },
  {
   "cell_type": "code",
   "execution_count": 19,
   "metadata": {},
   "outputs": [],
   "source": [
    "# Create an LLM based on GPT4 deployed on Azure\n",
    "llm = AzureChatOpenAI(\n",
    "    openai_api_version=\"2023-03-15-preview\",\n",
    "    deployment_name=\"Gpt42\", \n",
    "    azure_endpoint=os.getenv(\"AZURE_ENDPOINT\"),\n",
    "    model_name=\"gpt-4\"\n",
    ")"
   ]
  },
  {
   "cell_type": "code",
   "execution_count": 20,
   "metadata": {},
   "outputs": [
    {
     "name": "stdout",
     "output_type": "stream",
     "text": [
      "Extracting auio file from video /Users/gianmariaricci/develop/montaggi/UpdatingSSH.mp4\n"
     ]
    },
    {
     "data": {
      "text/plain": [
       "'/Users/gianmariaricci/develop/montaggi/UpdatingSSH.wav'"
      ]
     },
     "execution_count": 20,
     "metadata": {},
     "output_type": "execute_result"
    }
   ],
   "source": [
    "# I the import my custom function to work with audio and videp\n",
    "from plugins.AudioVideo import AudioVideo\n",
    "\n",
    "audio_video = AudioVideo()\n",
    "\n",
    "# you can test the function\n",
    "audio_video.extract_audio(\"/Users/gianmariaricci/develop/montaggi/UpdatingSSH.mp4\")"
   ]
  },
  {
   "cell_type": "code",
   "execution_count": 21,
   "metadata": {},
   "outputs": [],
   "source": [
    "# Then create tools list\n",
    "from langchain.tools import BaseTool, StructuredTool, Tool, tool\n",
    "tools = [\n",
    "    Tool.from_function(\n",
    "        func=audio_video.extract_audio,\n",
    "        name=\"ExtractAduio\",\n",
    "        description=\"extract audio in wav format from an mp4 file\",\n",
    "    ),\n",
    "    Tool.from_function(\n",
    "        func=audio_video.transcript_timeline,\n",
    "        name=\"TranscriptTimeline\",\n",
    "        description=\"Transcript audio from a wav file to a timeline\",\n",
    "    ),\n",
    "]"
   ]
  },
  {
   "cell_type": "code",
   "execution_count": 22,
   "metadata": {},
   "outputs": [],
   "source": [
    "# Finally you can create the agent\n",
    "from langchain.agents import AgentType, initialize_agent\n",
    "agent = initialize_agent(\n",
    "    tools, llm, agent=AgentType.ZERO_SHOT_REACT_DESCRIPTION, verbose=True\n",
    ")"
   ]
  },
  {
   "cell_type": "code",
   "execution_count": 23,
   "metadata": {},
   "outputs": [
    {
     "name": "stdout",
     "output_type": "stream",
     "text": [
      "\n",
      "\n",
      "\u001b[1m> Entering new AgentExecutor chain...\u001b[0m\n",
      "\u001b[32;1m\u001b[1;3mTo get the transcript from the video, I first need to extract the audio from the video file.\n",
      "Action: ExtractAduio\n",
      "Action Input: /Users/gianmariaricci/develop/montaggi/UpdatingSSH.mp4\u001b[0mExtracting auio file from video /Users/gianmariaricci/develop/montaggi/UpdatingSSH.mp4\n",
      "\n",
      "Observation: \u001b[36;1m\u001b[1;3m/Users/gianmariaricci/develop/montaggi/UpdatingSSH.wav\u001b[0m\n",
      "Thought:\u001b[32;1m\u001b[1;3mNow that I have the audio file, I can transcribe it.\n",
      "Action: TranscriptTimeline\n",
      "Action Input: /Users/gianmariaricci/develop/montaggi/UpdatingSSH.wav\u001b[0mExtracting transcript from audio file /Users/gianmariaricci/develop/montaggi/UpdatingSSH.wav\n"
     ]
    },
    {
     "name": "stderr",
     "output_type": "stream",
     "text": [
      "/Users/gianmariaricci/develop/github/LangChainPlayground/lchain/lib/python3.11/site-packages/whisper/transcribe.py:115: UserWarning: FP16 is not supported on CPU; using FP32 instead\n",
      "  warnings.warn(\"FP16 is not supported on CPU; using FP32 instead\")\n"
     ]
    },
    {
     "name": "stdout",
     "output_type": "stream",
     "text": [
      "extracted 47 audio segments\n",
      "\n",
      "Observation: \u001b[33;1m\u001b[1;3m00:00\t Hi and welcome again to a new video about Yubikey, in which I deal with a question I\n",
      "00:07\t got quite often, and the question is why I cannot use advanced shared features like SSH\n",
      "00:16\t key stored in my Yubikey when I work in Windows.\n",
      "00:19\t It seems not supported.\n",
      "00:20\t So what is the problem?\n",
      "00:22\t This problem usually does not happen in Linux because Linux not evenly has support for SSH.\n",
      "00:28\t So when you update your Linux machine, usually you will receive the latest version of the\n",
      "00:34\t open SSH protocol that supports Yubikey and you have no problem.\n",
      "00:39\t In Windows, the situation is a little different.\n",
      "00:43\t Let me show you why.\n",
      "00:45\t In the vast majority of situations, the problem is not having the latest version of SSH.\n",
      "00:51\t And to verify this, open a Windows terminal and type SSH-B.\n",
      "00:59\t And if you did not ever install or upgrade SSH, this is the answer.\n",
      "01:06\t The answer is open SSH for Windows 8.6 and this is indeed too old to support your Yubikey.\n",
      "01:15\t Now the usual follow-up question is, I keep my Windows up to date.\n",
      "01:20\t I install all the operating system updates.\n",
      "01:22\t Isn't it the open SSH part of the operating system?\n",
      "01:26\t So it's supposed to be updated with the standard Windows update program.\n",
      "01:32\t The answer sadly is no.\n",
      "01:35\t If you go on the GitHub repository of PowerShell Win32 open SSH, you can really see that the\n",
      "01:42\t releases shows you that the latest version is indeed the 9.4 and it is really, really\n",
      "01:49\t much more recent than the 8.6.\n",
      "01:52\t So why it is not automatically updated?\n",
      "01:57\t And the answer is because Microsoft changed how it supports SSH.\n",
      "02:02\t So you now need to install the open SSH package separately as you install other software in\n",
      "02:09\t Windows.\n",
      "02:10\t It's really supported by Microsoft, but it's not part of the standard update cycle of the\n",
      "02:16\t operating system.\n",
      "02:18\t Luckily, the solution is really, really simple.\n",
      "02:21\t You just open the terminal and you can use Wingette, your Windows package manager, to\n",
      "02:27\t find the package that contains the latest version.\n",
      "02:30\t So you can search open SSH and look at the supported, sorry, it's the Wingette search,\n",
      "02:38\t open SSH, and it will tell you that there is open SSH beta Microsoft open SSH dot beta.\n",
      "02:44\t And even if it's a beta version, it's fully supported and it works perfectly and it should\n",
      "02:49\t be the version that you're going to install.\n",
      "02:52\t You can simply Wingette install Microsoft open SSH and letting Windows, oh sorry, beta,\n",
      "03:01\t and letting Wingette install everything for you.\n",
      "03:04\t So you just wait a little bit for the package to be installed and then you will verify if\n",
      "03:10\t the new version of SSH is indeed installed.\n",
      "03:15\t If you type SSH dash capital V again to verify the version, you can verify that now you have\n",
      "03:24\t not anymore the 8.6 version, but you now have the Windows 9.4 version that is updated and\n",
      "03:31\t it fully supports your YubiKey.\n",
      "03:33\t So before starting using SSH functionalities on Windows, please just be sure you updated\n",
      "03:41\t the SSH protocol, the open SSH protocol, to the latest version and thanks to Wingette,\n",
      "03:48\t it is just a one-line install instruction.\n",
      "03:53\t And this concludes this video.\n",
      "03:55\t I hope you enjoyed it and I'm waiting for the next one in the YubiKey series.\n",
      "\u001b[0m\n",
      "Thought:\u001b[32;1m\u001b[1;3mI now have the final answer\n",
      "Final Answer: \n",
      "00:00\t Hi and welcome again to a new video about Yubikey, in which I deal with a question I\n",
      "00:07\t got quite often, and the question is why I cannot use advanced shared features like SSH\n",
      "00:16\t key stored in my Yubikey when I work in Windows.\n",
      "00:19\t It seems not supported.\n",
      "00:20\t So what is the problem?\n",
      "00:22\t This problem usually does not happen in Linux because Linux not evenly has support for SSH.\n",
      "00:28\t So when you update your Linux machine, usually you will receive the latest version of the\n",
      "00:34\t open SSH protocol that supports Yubikey and you have no problem.\n",
      "00:39\t In Windows, the situation is a little different.\n",
      "00:43\t Let me show you why.\n",
      "00:45\t In the vast majority of situations, the problem is not having the latest version of SSH.\n",
      "00:51\t And to verify this, open a Windows terminal and type SSH-B.\n",
      "00:59\t And if you did not ever install or upgrade SSH, this is the answer.\n",
      "01:06\t The answer is open SSH for Windows 8.6 and this is indeed too old to support your Yubikey.\n",
      "01:15\t Now the usual follow-up question is, I keep my Windows up to date.\n",
      "01:20\t I install all the operating system updates.\n",
      "01:22\t Isn't it the open SSH part of the operating system?\n",
      "01:26\t So it's supposed to be updated with the standard Windows update program.\n",
      "01:32\t The answer sadly is no.\n",
      "01:35\t If you go on the GitHub repository of PowerShell Win32 open SSH, you can really see that the\n",
      "01:42\t releases shows you that the latest version is indeed the 9.4 and it is really, really\n",
      "01:49\t much more recent than the 8.6.\n",
      "01:52\t So why it is not automatically updated?\n",
      "01:57\t And the answer is because Microsoft changed how it supports SSH.\n",
      "02:02\t So you now need to install the open SSH package separately as you install other software in\n",
      "02:09\t Windows.\n",
      "02:10\t It's really supported by Microsoft, but it's not part of the standard update cycle of the\n",
      "02:16\t operating system.\n",
      "02:18\t Luckily, the solution is really, really simple.\n",
      "02:21\t You just open the terminal and you can use Wingette, your Windows package manager, to\n",
      "02:27\t find the package that contains the latest version.\n",
      "02:30\t So you can search open SSH and look at the supported, sorry, it's the Wingette search,\n",
      "02:38\t open SSH, and it will tell you that there is open SSH beta Microsoft open SSH dot beta.\n",
      "02:44\t And even if it's a beta version, it's fully supported and it works perfectly and it should\n",
      "02:49\t be the version that you're going to install.\n",
      "02:52\t You can simply Wingette install Microsoft open SSH and letting Windows, oh sorry, beta,\n",
      "03:01\t and letting Wingette install everything for you.\n",
      "03:04\t So you just wait a little bit for the package to be installed and then you will verify if\n",
      "03:10\t the new version of SSH is indeed installed.\n",
      "03:15\t If you type SSH dash capital V again to verify the version, you can verify that now you have\n",
      "03:24\t not anymore the 8.6 version, but you now have the Windows 9.4 version that is updated and\n",
      "03:31\t it fully supports your YubiKey.\n",
      "03:33\t So before starting using SSH functionalities on Windows, please just be sure you updated\n",
      "03:41\t the SSH protocol, the open SSH protocol, to the latest version and thanks to Wingette,\n",
      "03:48\t it is just a one-line install instruction.\n",
      "03:53\t And this concludes this video.\n",
      "03:55\t I hope you enjoyed it and I'm waiting for the next one in the YubiKey series.\u001b[0m\n",
      "\n",
      "\u001b[1m> Finished chain.\u001b[0m\n"
     ]
    },
    {
     "data": {
      "text/plain": [
       "\"00:00\\t Hi and welcome again to a new video about Yubikey, in which I deal with a question I\\n00:07\\t got quite often, and the question is why I cannot use advanced shared features like SSH\\n00:16\\t key stored in my Yubikey when I work in Windows.\\n00:19\\t It seems not supported.\\n00:20\\t So what is the problem?\\n00:22\\t This problem usually does not happen in Linux because Linux not evenly has support for SSH.\\n00:28\\t So when you update your Linux machine, usually you will receive the latest version of the\\n00:34\\t open SSH protocol that supports Yubikey and you have no problem.\\n00:39\\t In Windows, the situation is a little different.\\n00:43\\t Let me show you why.\\n00:45\\t In the vast majority of situations, the problem is not having the latest version of SSH.\\n00:51\\t And to verify this, open a Windows terminal and type SSH-B.\\n00:59\\t And if you did not ever install or upgrade SSH, this is the answer.\\n01:06\\t The answer is open SSH for Windows 8.6 and this is indeed too old to support your Yubikey.\\n01:15\\t Now the usual follow-up question is, I keep my Windows up to date.\\n01:20\\t I install all the operating system updates.\\n01:22\\t Isn't it the open SSH part of the operating system?\\n01:26\\t So it's supposed to be updated with the standard Windows update program.\\n01:32\\t The answer sadly is no.\\n01:35\\t If you go on the GitHub repository of PowerShell Win32 open SSH, you can really see that the\\n01:42\\t releases shows you that the latest version is indeed the 9.4 and it is really, really\\n01:49\\t much more recent than the 8.6.\\n01:52\\t So why it is not automatically updated?\\n01:57\\t And the answer is because Microsoft changed how it supports SSH.\\n02:02\\t So you now need to install the open SSH package separately as you install other software in\\n02:09\\t Windows.\\n02:10\\t It's really supported by Microsoft, but it's not part of the standard update cycle of the\\n02:16\\t operating system.\\n02:18\\t Luckily, the solution is really, really simple.\\n02:21\\t You just open the terminal and you can use Wingette, your Windows package manager, to\\n02:27\\t find the package that contains the latest version.\\n02:30\\t So you can search open SSH and look at the supported, sorry, it's the Wingette search,\\n02:38\\t open SSH, and it will tell you that there is open SSH beta Microsoft open SSH dot beta.\\n02:44\\t And even if it's a beta version, it's fully supported and it works perfectly and it should\\n02:49\\t be the version that you're going to install.\\n02:52\\t You can simply Wingette install Microsoft open SSH and letting Windows, oh sorry, beta,\\n03:01\\t and letting Wingette install everything for you.\\n03:04\\t So you just wait a little bit for the package to be installed and then you will verify if\\n03:10\\t the new version of SSH is indeed installed.\\n03:15\\t If you type SSH dash capital V again to verify the version, you can verify that now you have\\n03:24\\t not anymore the 8.6 version, but you now have the Windows 9.4 version that is updated and\\n03:31\\t it fully supports your YubiKey.\\n03:33\\t So before starting using SSH functionalities on Windows, please just be sure you updated\\n03:41\\t the SSH protocol, the open SSH protocol, to the latest version and thanks to Wingette,\\n03:48\\t it is just a one-line install instruction.\\n03:53\\t And this concludes this video.\\n03:55\\t I hope you enjoyed it and I'm waiting for the next one in the YubiKey series.\""
      ]
     },
     "execution_count": 23,
     "metadata": {},
     "output_type": "execute_result"
    }
   ],
   "source": [
    "# Everthing is ready to start the conversation\n",
    "agent.run(\n",
    "    \"I need to get the transcript from the video /Users/gianmariaricci/develop/montaggi/UpdatingSSH.mp4\"\n",
    ")"
   ]
  }
 ],
 "metadata": {
  "kernelspec": {
   "display_name": "lchain",
   "language": "python",
   "name": "python3"
  },
  "language_info": {
   "codemirror_mode": {
    "name": "ipython",
    "version": 3
   },
   "file_extension": ".py",
   "mimetype": "text/x-python",
   "name": "python",
   "nbconvert_exporter": "python",
   "pygments_lexer": "ipython3",
   "version": "3.11.6"
  }
 },
 "nbformat": 4,
 "nbformat_minor": 2
}
