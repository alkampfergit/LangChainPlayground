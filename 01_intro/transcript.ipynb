{
 "cells": [
  {
   "cell_type": "code",
   "execution_count": 12,
   "metadata": {},
   "outputs": [],
   "source": [
    "import os\n",
    "# I need to visualize all the environment varibale defined\n",
    "# in the notebook. I need to know the order of the cells\n",
    "# and the order of the variables defined in each cell.\n",
    "\n",
    "os.environ.pop(\"OPENAI_API_BASE\", None)\n"
   ]
  },
  {
   "cell_type": "code",
   "execution_count": 13,
   "metadata": {},
   "outputs": [
    {
     "name": "stdout",
     "output_type": "stream",
     "text": [
      "https://alkopenai2.openai.azure.com/\n",
      "None\n"
     ]
    }
   ],
   "source": [
    "# Import some libraries and especially load environment variables\n",
    "from langchain.llms import AzureOpenAI\n",
    "from langchain.chat_models import AzureChatOpenAI\n",
    "import os\n",
    "from dotenv import load_dotenv, find_dotenv\n",
    "_ = load_dotenv(find_dotenv()) # read local .env file\n",
    "# set an environment varibale\n",
    "os.environ[\"LANGCHAIN_PROJECT\"] = \"01_basic\"\n",
    "\n",
    "print(os.getenv(\"AZURE_ENDPOINT\"))\n",
    "print(os.getenv(\"OPENAI_API_BASE\"))"
   ]
  },
  {
   "cell_type": "code",
   "execution_count": 14,
   "metadata": {},
   "outputs": [],
   "source": [
    "# Create an LLM based on GPT4 deployed on Azure\n",
    "llm = AzureChatOpenAI(\n",
    "    openai_api_version=\"2023-03-15-preview\",\n",
    "    deployment_name=\"Gpt35_2\", \n",
    "    azure_endpoint=os.getenv(\"AZURE_ENDPOINT\"),\n",
    "    model_name=\"gpt-35-turbo\"\n",
    ")"
   ]
  },
  {
   "cell_type": "code",
   "execution_count": 15,
   "metadata": {},
   "outputs": [
    {
     "name": "stdout",
     "output_type": "stream",
     "text": [
      "Extracting auio file from video C:\\temp\\ssh.mp4\n"
     ]
    },
    {
     "data": {
      "text/plain": [
       "'C:\\\\temp\\\\ssh.wav'"
      ]
     },
     "execution_count": 15,
     "metadata": {},
     "output_type": "execute_result"
    }
   ],
   "source": [
    "# I the import my custom function to work with audio and videp\n",
    "from plugins.AudioVideo import AudioVideo\n",
    "\n",
    "audio_video = AudioVideo()\n",
    "\n",
    "# you can test the function\n",
    "audio_video.extract_audio(\"C:\\\\temp\\\\ssh.mp4\")"
   ]
  },
  {
   "cell_type": "code",
   "execution_count": 16,
   "metadata": {},
   "outputs": [],
   "source": [
    "from plugins.Summarization import Summarization\n",
    "summarization = Summarization()\n",
    "\n",
    "# summarization.summarize_timeline(\"\"\" 00:00\t Hi and welcome again to a new video about UBQI, in which I deal with a question I got quite often and the question is why I cannot use advanced features like\n",
    "# 00:14\t SSH key stored in my UBQI when I work in Windows, it seems not supported. So what is the problem?\n",
    "# 00:22\t This problem usually does not happen in Linux because Linux notively has a support for SSH so when you update your Linux machine,\n",
    "# 00:31\t usually you will receive the latest version of the open SSH protocol that supports UBQI and you have not problem.\n",
    "# 00:39\t In Windows, this situation is a little different. Let me show you why.\n",
    "# 00:45\t In the vast majority of C2H shown, the problem is not having the latest version of SSH\n",
    "# 00:50\t and to verify this open a Windows terminal and type SSH, sorry, SSH-cabbital day.\n",
    "# 00:58\t And if you did not ever install or upgrade SSH, this is the answer.\n",
    "# 01:06\t The answer is open SSH for Windows 8.6 and this is indeed too old to support your UBQI.\n",
    "# \"\"\")"
   ]
  },
  {
   "cell_type": "code",
   "execution_count": 17,
   "metadata": {},
   "outputs": [],
   "source": [
    "# Then create tools list\n",
    "from langchain.tools import BaseTool, StructuredTool, Tool, tool\n",
    "\n",
    "tools = [\n",
    "    Tool.from_function(\n",
    "        func=audio_video.extract_audio,\n",
    "        name=\"ExtractAudio\",\n",
    "        description=\"extract audio in wav format from an mp4 file\",\n",
    "    ),\n",
    "    Tool.from_function(\n",
    "        func=audio_video.transcript_timeline,\n",
    "        name=\"TranscriptTimeline\",\n",
    "        description=\"Transcript audio from a wav file to a timeline\",\n",
    "    ),\n",
    "    Tool.from_function(\n",
    "        func=summarization.summarize_timeline,\n",
    "        name=\"SummarizeTimeline\",\n",
    "        description=\"Take a transcribed timeline and create a summarized timeline.\",\n",
    "    ),\n",
    "]"
   ]
  },
  {
   "cell_type": "code",
   "execution_count": 18,
   "metadata": {},
   "outputs": [],
   "source": [
    "# Finally you can create the agent\n",
    "from langchain.agents import AgentType, initialize_agent\n",
    "agent = initialize_agent(\n",
    "    tools, llm, agent=AgentType.ZERO_SHOT_REACT_DESCRIPTION, verbose=True\n",
    ")"
   ]
  },
  {
   "cell_type": "code",
   "execution_count": 19,
   "metadata": {},
   "outputs": [
    {
     "name": "stdout",
     "output_type": "stream",
     "text": [
      "\n",
      "\n",
      "\u001b[1m> Entering new AgentExecutor chain...\u001b[0m\n",
      "\u001b[32;1m\u001b[1;3mI need to extract the audio from the video file first, then transcribe it to a timeline, and finally summarize the timeline.\n",
      "Action: ExtractAudio\n",
      "Action Input: C:\\temp\\ssh.mp4\u001b[0mExtracting auio file from video C:\\temp\\ssh.mp4\n",
      "\n",
      "Observation: \u001b[36;1m\u001b[1;3mC:\\temp\\ssh.wav\u001b[0m\n",
      "Thought:\u001b[32;1m\u001b[1;3mNow that I have the audio file, I can transcribe it to a timeline.\n",
      "Action: TranscriptTimeline\n",
      "Action Input: C:\\temp\\ssh.wav\u001b[0mExtracting transcript from audio file C:\\temp\\ssh.wav\n",
      "extracted 47 audio segments\n",
      "\n",
      "Observation: \u001b[33;1m\u001b[1;3m00:00\t Hi and welcome again to a new video about Yubikey, in which I deal with a question I\n",
      "00:07\t got quite often, and the question is why I cannot use advanced shared features like SSH\n",
      "00:16\t key stored in my Yubikey when I work in Windows.\n",
      "00:19\t It seems not supported.\n",
      "00:20\t So what is the problem?\n",
      "00:22\t This problem usually does not happen in Linux because Linux not evenly has support for SSH.\n",
      "00:28\t So when you update your Linux machine, usually you will receive the latest version of the\n",
      "00:34\t open SSH protocol that supports Yubikey and you have no problem.\n",
      "00:39\t In Windows, the situation is a little different.\n",
      "00:43\t Let me show you why.\n",
      "00:45\t In the vast majority of situations, the problem is not having the latest version of SSH.\n",
      "00:51\t And to verify this, open a Windows terminal and type SSH-B.\n",
      "00:59\t And if you did not ever install or upgrade SSH, this is the answer.\n",
      "01:06\t The answer is open SSH for Windows 8.6 and this is indeed too old to support your Yubikey.\n",
      "01:15\t Now the usual follow-up question is, I keep my Windows up to date.\n",
      "01:20\t I install all the operating system updates.\n",
      "01:22\t Isn't it the open SSH part of the operating system?\n",
      "01:26\t So it's supposed to be updated with the standard Windows update program.\n",
      "01:32\t The answer sadly is no.\n",
      "01:35\t If you go on the GitHub repository of PowerShell Win32 open SSH, you can really see that the\n",
      "01:42\t releases shows you that the latest version is indeed the 9.4 and it is really, really\n",
      "01:49\t much more recent than the 8.6.\n",
      "01:52\t So why it is not automatically updated?\n",
      "01:57\t And the answer is because Microsoft changed how it supports SSH.\n",
      "02:02\t So you now need to install the open SSH package separately as you install other software in\n",
      "02:09\t Windows.\n",
      "02:10\t It's really supported by Microsoft, but it's not part of the standard update cycle of the\n",
      "02:16\t operating system.\n",
      "02:18\t Luckily, the solution is really, really simple.\n",
      "02:21\t You just open the terminal and you can use Wingette, your Windows package manager, to\n",
      "02:27\t find the package that contains the latest version.\n",
      "02:30\t So you can search open SSH and look at the supported, sorry, it's the Wingette search,\n",
      "02:38\t open SSH, and it will tell you that there is open SSH beta Microsoft open SSH dot beta.\n",
      "02:44\t And even if it's a beta version, it's fully supported and it works perfectly and it should\n",
      "02:49\t be the version that you're going to install.\n",
      "02:52\t You can simply Wingette install Microsoft open SSH and letting Windows, oh sorry, beta,\n",
      "03:01\t and letting Wingette install everything for you.\n",
      "03:04\t So you just wait a little bit for the package to be installed and then you will verify if\n",
      "03:10\t the new version of SSH is indeed installed.\n",
      "03:15\t If you type SSH dash capital V again to verify the version, you can verify that now you have\n",
      "03:24\t not anymore the 8.6 version, but you now have the Windows 9.4 version that is updated and\n",
      "03:31\t it fully supports your YubiKey.\n",
      "03:33\t So before starting using SSH functionalities on Windows, please just be sure you updated\n",
      "03:41\t the SSH protocol, the open SSH protocol, to the latest version and thanks to Wingette,\n",
      "03:48\t it is just a one-line install instruction.\n",
      "03:53\t And this concludes this video.\n",
      "03:55\t I hope you enjoyed it and I'm waiting for the next one in the YubiKey series.\n",
      "\u001b[0m\n",
      "Thought:\u001b[32;1m\u001b[1;3mNow that I have the transcribed timeline, I can summarize it.\n",
      "Action: SummarizeTimeline\n",
      "Action Input: 00:00\t Hi and welcome again to a new video about Yubikey, in which I deal with a question I\n",
      "00:07\t got quite often, and the question is why I cannot use advanced shared features like SSH\n",
      "00:16\t key stored in my Yubikey when I work in Windows.\n",
      "00:19\t It seems not supported.\n",
      "00:20\t So what is the problem?\n",
      "00:22\t This problem usually does not happen in Linux because Linux not evenly has support for SSH.\n",
      "00:28\t So when you update your Linux machine, usually you will receive the latest version of the\n",
      "00:34\t open SSH protocol that supports Yubikey and you have no problem.\n",
      "00:39\t In Windows, the situation is a little different.\n",
      "00:43\t Let me show you why.\n",
      "00:45\t In the vast majority of situations, the problem is not having the latest version of SSH.\n",
      "00:51\t And to verify this, open a Windows terminal and type SSH-B.\n",
      "00:59\t And if you did not ever install or upgrade SSH, this is the answer.\n",
      "01:06\t The answer is open SSH for Windows 8.6 and this is indeed too old to support your Yubikey.\n",
      "01:15\t Now the usual follow-up question is, I keep my Windows up to date.\n",
      "01:20\t I install all the operating system updates.\n",
      "01:22\t Isn't it the open SSH part of the operating system?\n",
      "01:26\t So it's supposed to be updated with the standard Windows update program.\n",
      "01:32\t The answer sadly is no.\n",
      "01:35\t If you go on the GitHub repository of PowerShell Win32 open SSH, you can really see that the\n",
      "01:42\t releases shows you that the latest version is indeed the 9.4 and it is really, really\n",
      "01:49\t much more recent than the 8.6.\n",
      "01:52\t So why it is not automatically updated?\n",
      "01:57\t And the answer is because Microsoft changed how it supports SSH.\n",
      "02:02\t So you now need to install the open SSH package separately as you install other software in\n",
      "02:09\t Windows.\n",
      "02:10\t It's really supported by Microsoft, but it's not part of the standard update cycle of the\n",
      "02:16\t operating system.\n",
      "02:18\t Luckily, the solution is really, really simple.\n",
      "02:21\t You just open the terminal and you can use Wingette, your Windows package manager, to\n",
      "02:27\t find the package that contains the latest version.\n",
      "02:30\t So you can search open SSH and look at the supported, sorry, it's the Wingette search,\n",
      "02:38\t open SSH, and it will tell you that there is open SSH beta Microsoft open SSH dot beta.\n",
      "02:44\t And even if it's a beta version, it's fully supported and it works perfectly and it should\n",
      "02:49\t be the version that you're going to install.\n",
      "02:52\t You can simply Wingette install Microsoft open SSH and letting Windows, oh sorry, beta,\n",
      "03:01\t and letting Wingette install everything for you.\n",
      "03:04\t So you just wait a little bit for the package to be installed and then you will verify if\n",
      "03:10\t the new version of SSH is indeed installed.\n",
      "03:15\t If you type SSH dash capital V again to verify the version, you can verify that now you have\n",
      "03:24\t not anymore the 8.6 version, but you now have the Windows 9.4 version that is updated and\n",
      "03:31\t it fully supports your YubiKey.\n",
      "03:33\t So before starting using SSH functionalities on Windows, please just be sure you updated\n",
      "03:41\t the SSH protocol, the open SSH protocol, to the latest version and thanks to Wingette,\n",
      "03:48\t it is just a one-line install instruction.\n",
      "03:53\t And this concludes this video.\n",
      "03:55\t I hope you enjoyed it and I'm waiting for the next one in the YubiKey series.\u001b[0m\n",
      "Observation: \u001b[38;5;200m\u001b[1;3m00:00 - Introduction to YubiKey on Windows Issues\n",
      "00:39 - Identifying the Problem with SSH\n",
      "01:15 - Misconceptions about SSH Updates in Windows\n",
      "01:35 - The Reality of SSH Updates\n",
      "02:18 - The Simple Solution to the SSH Problem\n",
      "03:33 - Final Remarks and Conclusion\u001b[0m\n",
      "Thought:\u001b[32;1m\u001b[1;3mI now know the final answer\n",
      "Final Answer: The summarized timeline from the video \"C:\\temp\\ssh.mp4\" is as follows:\n",
      "- 00:00 - Introduction to YubiKey on Windows Issues\n",
      "- 00:39 - Identifying the Problem with SSH\n",
      "- 01:15 - Misconceptions about SSH Updates in Windows\n",
      "- 01:35 - The Reality of SSH Updates\n",
      "- 02:18 - The Simple Solution to the SSH Problem\n",
      "- 03:33 - Final Remarks and Conclusion\u001b[0m\n",
      "\n",
      "\u001b[1m> Finished chain.\u001b[0m\n"
     ]
    },
    {
     "data": {
      "text/plain": [
       "'The summarized timeline from the video \"C:\\\\temp\\\\ssh.mp4\" is as follows:\\n- 00:00 - Introduction to YubiKey on Windows Issues\\n- 00:39 - Identifying the Problem with SSH\\n- 01:15 - Misconceptions about SSH Updates in Windows\\n- 01:35 - The Reality of SSH Updates\\n- 02:18 - The Simple Solution to the SSH Problem\\n- 03:33 - Final Remarks and Conclusion'"
      ]
     },
     "execution_count": 19,
     "metadata": {},
     "output_type": "execute_result"
    }
   ],
   "source": [
    "# Everthing is ready to start the conversation\n",
    "agent.run(\n",
    "    \"I need a summarized timeline from video C:\\\\temp\\\\ssh.mp4\"\n",
    ")"
   ]
  }
 ],
 "metadata": {
  "kernelspec": {
   "display_name": "lchain",
   "language": "python",
   "name": "python3"
  },
  "language_info": {
   "codemirror_mode": {
    "name": "ipython",
    "version": 3
   },
   "file_extension": ".py",
   "mimetype": "text/x-python",
   "name": "python",
   "nbconvert_exporter": "python",
   "pygments_lexer": "ipython3",
   "version": "3.10.9"
  }
 },
 "nbformat": 4,
 "nbformat_minor": 2
}
