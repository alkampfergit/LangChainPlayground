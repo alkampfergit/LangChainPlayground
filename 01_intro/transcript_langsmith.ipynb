{
 "cells": [
  {
   "cell_type": "code",
   "execution_count": 8,
   "metadata": {},
   "outputs": [],
   "source": [
    "import os\n",
    "# I need to visualize all the environment varibale defined\n",
    "# in the notebook. I need to know the order of the cells\n",
    "# and the order of the variables defined in each cell.\n",
    "\n",
    "os.environ.pop(\"OPENAI_API_BASE\", None)\n"
   ]
  },
  {
   "cell_type": "code",
   "execution_count": 9,
   "metadata": {},
   "outputs": [
    {
     "name": "stdout",
     "output_type": "stream",
     "text": [
      "https://alkopenai2.openai.azure.com/\n",
      "https://alkopenai2.openai.azure.com/\n",
      "None\n"
     ]
    }
   ],
   "source": [
    "# Import some libraries and especially load environment variables\n",
    "from langchain.llms import AzureOpenAI\n",
    "from langchain.chat_models import AzureChatOpenAI\n",
    "import os\n",
    "from dotenv import load_dotenv, find_dotenv\n",
    "_ = load_dotenv(find_dotenv()) # read local .env file\n",
    "# set an environment varibale\n",
    "os.environ[\"LANGCHAIN_PROJECT\"] = \"01_basic\"\n",
    "\n",
    "print(os.getenv(\"AZURE_ENDPOINT\"))\n",
    "print(os.getenv(\"OPENAI_API_BASE\"))\n",
    "# I need to clear the OPENAI_API_BASE variable\n",
    "\n",
    "os.environ.pop(\"OPENAI_API_BASE\", None)\n",
    "print(os.getenv(\"OPENAI_API_BASE\"))\n"
   ]
  },
  {
   "cell_type": "code",
   "execution_count": 10,
   "metadata": {},
   "outputs": [],
   "source": [
    "# Create an LLM based on GPT4 deployed on Azure\n",
    "llm = AzureChatOpenAI(\n",
    "    openai_api_version=\"2023-09-01-preview\",\n",
    "    deployment_name=\"Gpt35_2\", \n",
    "    azure_endpoint=os.getenv(\"AZURE_ENDPOINT\"),\n",
    "    model_name=\"gpt-3.5-turbo-1106\"\n",
    ")"
   ]
  },
  {
   "cell_type": "code",
   "execution_count": 11,
   "metadata": {},
   "outputs": [
    {
     "name": "stdout",
     "output_type": "stream",
     "text": [
      "Extracting auio file from video C:\\temp\\ssh.mp4\n"
     ]
    },
    {
     "data": {
      "text/plain": [
       "'C:\\\\temp\\\\ssh.wav'"
      ]
     },
     "execution_count": 11,
     "metadata": {},
     "output_type": "execute_result"
    }
   ],
   "source": [
    "# I the import my custom function to work with audio and videp\n",
    "from plugins.AudioVideo import AudioVideo\n",
    "\n",
    "audio_video = AudioVideo()\n",
    "\n",
    "# you can test the function\n",
    "audio_video.extract_audio(\"C:\\\\temp\\\\ssh.mp4\")"
   ]
  },
  {
   "cell_type": "code",
   "execution_count": 12,
   "metadata": {},
   "outputs": [],
   "source": [
    "from plugins.Summarization import Summarization\n",
    "summarization = Summarization()\n",
    "\n",
    "# summarization.summarize_timeline(\"\"\" 00:00\t Hi and welcome again to a new video about UBQI, in which I deal with a question I got quite often and the question is why I cannot use advanced features like\n",
    "# 00:14\t SSH key stored in my UBQI when I work in Windows, it seems not supported. So what is the problem?\n",
    "# 00:22\t This problem usually does not happen in Linux because Linux notively has a support for SSH so when you update your Linux machine,\n",
    "# 00:31\t usually you will receive the latest version of the open SSH protocol that supports UBQI and you have not problem.\n",
    "# 00:39\t In Windows, this situation is a little different. Let me show you why.\n",
    "# 00:45\t In the vast majority of C2H shown, the problem is not having the latest version of SSH\n",
    "# 00:50\t and to verify this open a Windows terminal and type SSH, sorry, SSH-cabbital day.\n",
    "# 00:58\t And if you did not ever install or upgrade SSH, this is the answer.\n",
    "# 01:06\t The answer is open SSH for Windows 8.6 and this is indeed too old to support your UBQI.\n",
    "# \"\"\")"
   ]
  },
  {
   "cell_type": "code",
   "execution_count": 13,
   "metadata": {},
   "outputs": [],
   "source": [
    "# Then create tools list\n",
    "from langchain.tools import BaseTool, StructuredTool, Tool, tool\n",
    "\n",
    "tools = [\n",
    "    Tool.from_function(\n",
    "        func=audio_video.extract_audio,\n",
    "        name=\"ExtractAudio\",\n",
    "        description=\"extract audio in wav format from an mp4 file\",\n",
    "    ),\n",
    "    Tool.from_function(\n",
    "        func=audio_video.transcript_timeline,\n",
    "        name=\"TranscriptTimeline\",\n",
    "        description=\"Transcript audio from a wav file to a timeline\",\n",
    "    ),\n",
    "    Tool.from_function(\n",
    "        func=summarization.summarize_timeline,\n",
    "        name=\"SummarizeTimeline\",\n",
    "        description=\"Take a transcribed timeline and create a summarized timeline.\",\n",
    "    ),\n",
    "]"
   ]
  },
  {
   "cell_type": "code",
   "execution_count": 14,
   "metadata": {},
   "outputs": [],
   "source": [
    "# Finally you can create the agent\n",
    "from langchain.agents import AgentType, initialize_agent\n",
    "agent = initialize_agent(\n",
    "    tools, llm, agent=AgentType.ZERO_SHOT_REACT_DESCRIPTION, verbose=True\n",
    ")"
   ]
  },
  {
   "cell_type": "code",
   "execution_count": 16,
   "metadata": {},
   "outputs": [
    {
     "ename": "ValueError",
     "evalue": "`run` supported with either positional arguments or keyword arguments but not both. Got args: ('I need a summarized timeline from video /Users/gianmariaricci/develop/montaggi/RDP.mp4',) and kwargs: {'group_manager': <langchain_core.callbacks.manager.CallbackManagerForChainGroup object at 0x1725e11d0>}.",
     "output_type": "error",
     "traceback": [
      "\u001b[0;31m---------------------------------------------------------------------------\u001b[0m",
      "\u001b[0;31mValueError\u001b[0m                                Traceback (most recent call last)",
      "Cell \u001b[0;32mIn[16], line 16\u001b[0m\n\u001b[1;32m     14\u001b[0m question \u001b[38;5;241m=\u001b[39m \u001b[38;5;124m\"\u001b[39m\u001b[38;5;124mI need a summarized timeline from video /Users/gianmariaricci/develop/montaggi/RDP.mp4\u001b[39m\u001b[38;5;124m\"\u001b[39m\n\u001b[1;32m     15\u001b[0m \u001b[38;5;28;01mwith\u001b[39;00m trace_as_chain_group(\u001b[38;5;124m\"\u001b[39m\u001b[38;5;124mtest_group\u001b[39m\u001b[38;5;124m\"\u001b[39m, inputs\u001b[38;5;241m=\u001b[39m{\u001b[38;5;124m\"\u001b[39m\u001b[38;5;124mquestion\u001b[39m\u001b[38;5;124m\"\u001b[39m: question}) \u001b[38;5;28;01mas\u001b[39;00m group_manager:\n\u001b[0;32m---> 16\u001b[0m     \u001b[43magent\u001b[49m\u001b[38;5;241;43m.\u001b[39;49m\u001b[43mrun\u001b[49m\u001b[43m(\u001b[49m\u001b[43mquestion\u001b[49m\u001b[43m,\u001b[49m\u001b[43m \u001b[49m\u001b[43mgroup_manager\u001b[49m\u001b[38;5;241;43m=\u001b[39;49m\u001b[43mgroup_manager\u001b[49m\u001b[43m)\u001b[49m\n",
      "File \u001b[0;32m~/develop/github/LangChainPlayground/lchain/lib/python3.11/site-packages/langchain/chains/base.py:522\u001b[0m, in \u001b[0;36mChain.run\u001b[0;34m(self, callbacks, tags, metadata, *args, **kwargs)\u001b[0m\n\u001b[1;32m    517\u001b[0m     \u001b[38;5;28;01mraise\u001b[39;00m \u001b[38;5;167;01mValueError\u001b[39;00m(\n\u001b[1;32m    518\u001b[0m         \u001b[38;5;124m\"\u001b[39m\u001b[38;5;124m`run` supported with either positional arguments or keyword arguments,\u001b[39m\u001b[38;5;124m\"\u001b[39m\n\u001b[1;32m    519\u001b[0m         \u001b[38;5;124m\"\u001b[39m\u001b[38;5;124m but none were provided.\u001b[39m\u001b[38;5;124m\"\u001b[39m\n\u001b[1;32m    520\u001b[0m     )\n\u001b[1;32m    521\u001b[0m \u001b[38;5;28;01melse\u001b[39;00m:\n\u001b[0;32m--> 522\u001b[0m     \u001b[38;5;28;01mraise\u001b[39;00m \u001b[38;5;167;01mValueError\u001b[39;00m(\n\u001b[1;32m    523\u001b[0m         \u001b[38;5;124mf\u001b[39m\u001b[38;5;124m\"\u001b[39m\u001b[38;5;124m`run` supported with either positional arguments or keyword arguments\u001b[39m\u001b[38;5;124m\"\u001b[39m\n\u001b[1;32m    524\u001b[0m         \u001b[38;5;124mf\u001b[39m\u001b[38;5;124m\"\u001b[39m\u001b[38;5;124m but not both. Got args: \u001b[39m\u001b[38;5;132;01m{\u001b[39;00margs\u001b[38;5;132;01m}\u001b[39;00m\u001b[38;5;124m and kwargs: \u001b[39m\u001b[38;5;132;01m{\u001b[39;00mkwargs\u001b[38;5;132;01m}\u001b[39;00m\u001b[38;5;124m.\u001b[39m\u001b[38;5;124m\"\u001b[39m\n\u001b[1;32m    525\u001b[0m     )\n",
      "\u001b[0;31mValueError\u001b[0m: `run` supported with either positional arguments or keyword arguments but not both. Got args: ('I need a summarized timeline from video /Users/gianmariaricci/develop/montaggi/RDP.mp4',) and kwargs: {'group_manager': <langchain_core.callbacks.manager.CallbackManagerForChainGroup object at 0x1725e11d0>}."
     ]
    }
   ],
   "source": [
    "from langchain.callbacks.manager import (\n",
    "    trace_as_chain_group,\n",
    "    atrace_as_chain_group,\n",
    ")\n",
    "\n",
    "with trace_as_chain_group(\"test_group\", inputs={\"input\": \"BLAHBLAH\"}) as group_manager:\n",
    "    \"\"\"Pass the group_manager as a callback to group all runs\n",
    "    within this context\"\"\"\n",
    "\n",
    "    # ...\n",
    "    group_manager.on_chain_end({\"output\": \"Final output\"})\n",
    "\n",
    "\n",
    "question = \"I need a summarized timeline from video /Users/gianmariaricci/develop/montaggi/RDP.mp4\"\n",
    "with trace_as_chain_group(\"test_group\", inputs={\"question\": question}) as group_manager:\n",
    "    agent.run(question, group_manager=group_manager)"
   ]
  }
 ],
 "metadata": {
  "kernelspec": {
   "display_name": "lchain_experiments",
   "language": "python",
   "name": "lchain_experiments"
  },
  "language_info": {
   "codemirror_mode": {
    "name": "ipython",
    "version": 3
   },
   "file_extension": ".py",
   "mimetype": "text/x-python",
   "name": "python",
   "nbconvert_exporter": "python",
   "pygments_lexer": "ipython3",
   "version": "3.11.6"
  }
 },
 "nbformat": 4,
 "nbformat_minor": 2
}
